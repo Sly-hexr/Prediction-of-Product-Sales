{
 "cells": [
  {
   "cell_type": "markdown",
   "metadata": {},
   "source": [
    "# imports"
   ]
  },
  {
   "cell_type": "code",
   "execution_count": null,
   "metadata": {},
   "outputs": [],
   "source": [
    "import pandas as pd\n",
    "import numpy as np\n",
    "import matplotlib.pyplot as plt\n",
    "import seaborn as sns\n",
    "# Preprocessing tools\n",
    "from sklearn.model_selection import train_test_split\n",
    "from sklearn.compose import make_column_transformer, make_column_selector\n",
    "from sklearn.pipeline import make_pipeline\n",
    "from sklearn.preprocessing import OneHotEncoder, StandardScaler\n",
    "from sklearn.impute import SimpleImputer\n",
    "# Models & evaluation metrics\n",
    "from sklearn import metrics\n",
    "from sklearn.linear_model import LinearRegression\n",
    "from sklearn.tree import DecisionTreeRegressor\n",
    "from sklearn.ensemble import RandomForestRegressor\n",
    "import shap\n",
    "import os\n",
    "os.makedirs(\"images/\", exist_ok=True)\n",
    "import joblib\n",
    "loaded_joblib = joblib.load(\"best_models.joblib\")\n",
    "loaded_joblib.keys()"
   ]
  },
  {
   "cell_type": "code",
   "execution_count": null,
   "metadata": {},
   "outputs": [],
   "source": [
    "#Model evaluation function\n",
    "def evaluate_regression(model, X_train,y_train, X_test, y_test):\n",
    "    \"\"\"Evaluates a scikit learn regression model using r-squared and RMSE\"\"\"\n",
    "\n",
    "    ## Training Data\n",
    "    y_pred_train = model.predict(X_train)\n",
    "    r2_train = metrics.r2_score(y_train, y_pred_train)\n",
    "    rmse_train = metrics.mean_squared_error(y_train, y_pred_train,\n",
    "                                            squared=False)\n",
    "\n",
    "    print(f\"Training Data:\\tR^2= {r2_train:.2f}\\tRMSE= {rmse_train:.2f}\")\n",
    "\n",
    "\n",
    "    ## Test Data\n",
    "    y_pred_test = model.predict(X_test)\n",
    "    r2_test = metrics.r2_score(y_test, y_pred_test)\n",
    "    rmse_test = metrics.mean_squared_error(y_test, y_pred_test,\n",
    "                                            squared=False)\n",
    "\n",
    "    print(f\"Test Data:\\tR^2= {r2_test:.2f}\\tRMSE= {rmse_test:.2f}\")"
   ]
  },
  {
   "cell_type": "code",
   "execution_count": null,
   "metadata": {},
   "outputs": [],
   "source": [
    "# Saving the train/test split data into individual variables\n",
    "X_train = loaded_joblib['X_train']\n",
    "y_train = loaded_joblib['y_train']\n",
    "X_test  = loaded_joblib['X_test']\n",
    "y_test  = loaded_joblib['y_test']\n",
    "#  Saving the models & preprocessor from POPS-Revisited\n",
    "rf_reg  = loaded_joblib['RandomForestRegressor']\n",
    "lin_reg  = loaded_joblib['LinearRegression']\n",
    "\n",
    "preprocessor = loaded_joblib['preprocessor']"
   ]
  },
  {
   "cell_type": "code",
   "execution_count": null,
   "metadata": {},
   "outputs": [],
   "source": [
    "# Evaluate loaded model\n",
    "evaluate_regression(rf_reg, X_train, y_train, X_test, y_test)"
   ]
  },
  {
   "cell_type": "code",
   "execution_count": null,
   "metadata": {},
   "outputs": [],
   "source": [
    "shap.initjs()"
   ]
  },
  {
   "cell_type": "code",
   "execution_count": null,
   "metadata": {},
   "outputs": [],
   "source": [
    "# Create X_shap variable\n",
    "X_shap = shap.sample(X_train, nsamples = 400, random_state = 321)\n",
    "X_shap"
   ]
  },
  {
   "cell_type": "code",
   "execution_count": null,
   "metadata": {},
   "outputs": [],
   "source": [
    "# Create y_shap variable\n",
    "y_shap = y_train.loc[X_shap.index].astype(int)\n",
    "y_shap"
   ]
  },
  {
   "cell_type": "code",
   "execution_count": null,
   "metadata": {},
   "outputs": [],
   "source": [
    "# reset index values\n",
    "X_shap = X_shap.reset_index(drop=True)\n",
    "y_shap = y_shap.reset_index(drop=True)\n",
    "X_shap"
   ]
  },
  {
   "cell_type": "code",
   "execution_count": null,
   "metadata": {},
   "outputs": [],
   "source": [
    "# create model explainer\n",
    "explainer = shap.Explainer(rf_reg)\n",
    "explainer"
   ]
  },
  {
   "cell_type": "code",
   "execution_count": null,
   "metadata": {},
   "outputs": [],
   "source": [
    "# Getting the shap values\n",
    "shap_values = explainer(X_shap, y_shap)\n",
    "type(shap_values)"
   ]
  },
  {
   "cell_type": "code",
   "execution_count": null,
   "metadata": {},
   "outputs": [],
   "source": [
    "# confirming shap values are 2 dimension\n",
    "shap_values.shape"
   ]
  },
  {
   "cell_type": "code",
   "execution_count": null,
   "metadata": {},
   "outputs": [],
   "source": [
    "# Create a summary plot - with plot_type='bar':\n",
    "fig, ax = plt.subplots()\n",
    "shap.summary_plot(shap_values,features= X_shap, plot_type='bar')\n",
    "# Save your figure as a .png file inside your repository\n",
    "fig.savefig('images/summary_plot_1.png')"
   ]
  },
  {
   "cell_type": "code",
   "execution_count": null,
   "metadata": {},
   "outputs": [],
   "source": [
    "#Create a second summary plot - with plot_type='dot'\n",
    "fig, ax = plt.subplots()\n",
    "shap.summary_plot(shap_values,features= X_shap)\n",
    "# Save your figure as a .png file inside your repository\n",
    "fig.savefig('images/summary_plot_2.png')"
   ]
  }
 ],
 "metadata": {
  "kernelspec": {
   "display_name": "dojo-env",
   "language": "python",
   "name": "python3"
  },
  "language_info": {
   "name": "python",
   "version": "3.9.15"
  },
  "orig_nbformat": 4
 },
 "nbformat": 4,
 "nbformat_minor": 2
}
