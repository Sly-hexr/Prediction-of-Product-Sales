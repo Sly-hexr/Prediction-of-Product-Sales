{
 "cells": [
  {
   "cell_type": "markdown",
   "metadata": {},
   "source": [
    "# Imports"
   ]
  },
  {
   "cell_type": "code",
   "execution_count": 48,
   "metadata": {},
   "outputs": [],
   "source": [
    "## standard imports\n",
    "import pandas as pd\n",
    "import numpy as np\n",
    "import matplotlib.pyplot as plt\n",
    "import seaborn as sns\n",
    "\n",
    "## Preprocessing tools\n",
    "from sklearn.model_selection import train_test_split\n",
    "from sklearn.compose import make_column_transformer, make_column_selector\n",
    "from sklearn.pipeline import make_pipeline\n",
    "from sklearn.preprocessing import OneHotEncoder, StandardScaler,OrdinalEncoder\n",
    "from sklearn.impute import SimpleImputer\n",
    "from sklearn.compose import ColumnTransformer\n",
    "## Models & evaluation metrics\n",
    "from sklearn import metrics\n",
    "from sklearn.linear_model import LinearRegression\n",
    "from sklearn.tree import DecisionTreeRegressor\n",
    "from sklearn.ensemble import RandomForestRegressor\n",
    "import joblib\n",
    "## set random state\n",
    "SEED = 321\n",
    "np.random.seed(SEED)\n",
    "# set pandas to display more columns\n",
    "pd.set_option('display.max_columns',50)\n",
    "\n",
    "fpath=('sales_predictions_2023.csv')\n",
    "# read in data\n",
    "df = pd.read_csv(fpath)"
   ]
  },
  {
   "cell_type": "code",
   "execution_count": 49,
   "metadata": {},
   "outputs": [],
   "source": [
    "def plot_coeffs(coeffs, top_n=None,  figsize=(4,5), intercept=False, \n",
    "                annotate=False, ha='left',va='center', size=12, xytext=(4,0),\n",
    "                  textcoords='offset points'):\n",
    "    \"\"\"Plots the top_n coefficients from a Series, with optional annotations.\"\"\"\n",
    "    if (intercept==False) & ('intercept' in coeffs.index):\n",
    "        coeffs = coeffs.drop('intercept')\n",
    "    if top_n==None:\n",
    "        ## sort all features and set title\n",
    "        plot_vals = coeffs#.sort_values()\n",
    "        title = \"All Coefficients - Ranked by Magnitude\"\n",
    "    else:\n",
    "        ## rank the coeffs and select the top_n\n",
    "        coeff_rank = coeffs.abs().rank().sort_values(ascending=False)\n",
    "        top_n_features = coeff_rank.head(top_n)\n",
    "        plot_vals = coeffs.loc[top_n_features.index].sort_values()\n",
    "        ## sort features and keep top_n and set title\n",
    "        title = f\"Top {top_n} Largest Coefficients\"\n",
    "    ## plotting top N importances\n",
    "    ax = plot_vals.plot(kind='barh', figsize=figsize)\n",
    "    ax.set(xlabel='Coefficient', \n",
    "           ylabel='Feature Names', \n",
    "           title=title)\n",
    "    ax.axvline(0, color='k')\n",
    "    \n",
    "    if annotate==True:\n",
    "        annotate_hbars(ax, ha=ha,va=va,size=size,xytext=xytext,\n",
    "                       textcoords=textcoords)\n",
    "    ## return ax in case want to continue to update/modify figure\n",
    "    return ax\n",
    "\n",
    "def annotate_hbars(ax, ha='left',va='center',size=12,  xytext=(4,0),\n",
    "                  textcoords='offset points'):\n",
    "    for bar in ax.patches:\n",
    "    \n",
    "        ## calculate center of bar\n",
    "        bar_ax = bar.get_y() + bar.get_height()/2\n",
    "        ## get the value to annotate\n",
    "        val = bar.get_width()\n",
    "        if val < 0:\n",
    "            val_pos = 0\n",
    "        else:\n",
    "            val_pos = val\n",
    "        # ha and va stand for the horizontal and vertical alignment\n",
    "        ax.annotate(f\"{val:.3f}\", (val_pos,bar_ax), ha=ha,va=va,size=size,\n",
    "                        xytext=xytext, textcoords=textcoords)"
   ]
  },
  {
   "cell_type": "code",
   "execution_count": 50,
   "metadata": {},
   "outputs": [
    {
     "name": "stderr",
     "output_type": "stream",
     "text": [
      "C:\\Users\\Sly\\AppData\\Local\\Temp\\ipykernel_18292\\3397295179.py:9: FutureWarning: The default value of numeric_only in DataFrame.min is deprecated. In a future version, it will default to False. In addition, specifying 'numeric_only=None' is deprecated. Select only valid columns or specify the value of numeric_only to silence this warning.\n",
      "  \"min\":df.min(),\n",
      "C:\\Users\\Sly\\AppData\\Local\\Temp\\ipykernel_18292\\3397295179.py:10: FutureWarning: The default value of numeric_only in DataFrame.max is deprecated. In a future version, it will default to False. In addition, specifying 'numeric_only=None' is deprecated. Select only valid columns or specify the value of numeric_only to silence this warning.\n",
      "  'max':df.max()\n"
     ]
    },
    {
     "data": {
      "text/html": [
       "<div>\n",
       "<style scoped>\n",
       "    .dataframe tbody tr th:only-of-type {\n",
       "        vertical-align: middle;\n",
       "    }\n",
       "\n",
       "    .dataframe tbody tr th {\n",
       "        vertical-align: top;\n",
       "    }\n",
       "\n",
       "    .dataframe thead th {\n",
       "        text-align: right;\n",
       "    }\n",
       "</style>\n",
       "<table border=\"1\" class=\"dataframe\">\n",
       "  <thead>\n",
       "    <tr style=\"text-align: right;\">\n",
       "      <th></th>\n",
       "      <th>Column</th>\n",
       "      <th>dtype</th>\n",
       "      <th># null</th>\n",
       "      <th>null (%)</th>\n",
       "      <th>nunique</th>\n",
       "      <th>min</th>\n",
       "      <th>max</th>\n",
       "    </tr>\n",
       "  </thead>\n",
       "  <tbody>\n",
       "    <tr>\n",
       "      <th>0</th>\n",
       "      <td>Item_Fat_Content</td>\n",
       "      <td>object</td>\n",
       "      <td>0</td>\n",
       "      <td>0.000000</td>\n",
       "      <td>5</td>\n",
       "      <td>LF</td>\n",
       "      <td>reg</td>\n",
       "    </tr>\n",
       "    <tr>\n",
       "      <th>1</th>\n",
       "      <td>Item_Identifier</td>\n",
       "      <td>object</td>\n",
       "      <td>0</td>\n",
       "      <td>0.000000</td>\n",
       "      <td>1559</td>\n",
       "      <td>DRA12</td>\n",
       "      <td>NCZ54</td>\n",
       "    </tr>\n",
       "    <tr>\n",
       "      <th>2</th>\n",
       "      <td>Item_MRP</td>\n",
       "      <td>float64</td>\n",
       "      <td>0</td>\n",
       "      <td>0.000000</td>\n",
       "      <td>5938</td>\n",
       "      <td>31.29</td>\n",
       "      <td>266.8884</td>\n",
       "    </tr>\n",
       "    <tr>\n",
       "      <th>3</th>\n",
       "      <td>Item_Outlet_Sales</td>\n",
       "      <td>float64</td>\n",
       "      <td>0</td>\n",
       "      <td>0.000000</td>\n",
       "      <td>3493</td>\n",
       "      <td>33.29</td>\n",
       "      <td>13086.9648</td>\n",
       "    </tr>\n",
       "    <tr>\n",
       "      <th>4</th>\n",
       "      <td>Item_Type</td>\n",
       "      <td>object</td>\n",
       "      <td>0</td>\n",
       "      <td>0.000000</td>\n",
       "      <td>16</td>\n",
       "      <td>Baking Goods</td>\n",
       "      <td>Starchy Foods</td>\n",
       "    </tr>\n",
       "    <tr>\n",
       "      <th>5</th>\n",
       "      <td>Item_Visibility</td>\n",
       "      <td>float64</td>\n",
       "      <td>0</td>\n",
       "      <td>0.000000</td>\n",
       "      <td>7880</td>\n",
       "      <td>0.0</td>\n",
       "      <td>0.328391</td>\n",
       "    </tr>\n",
       "    <tr>\n",
       "      <th>6</th>\n",
       "      <td>Item_Weight</td>\n",
       "      <td>float64</td>\n",
       "      <td>1463</td>\n",
       "      <td>17.165317</td>\n",
       "      <td>415</td>\n",
       "      <td>4.555</td>\n",
       "      <td>21.35</td>\n",
       "    </tr>\n",
       "    <tr>\n",
       "      <th>7</th>\n",
       "      <td>Outlet_Establishment_Year</td>\n",
       "      <td>int64</td>\n",
       "      <td>0</td>\n",
       "      <td>0.000000</td>\n",
       "      <td>9</td>\n",
       "      <td>1985</td>\n",
       "      <td>2009</td>\n",
       "    </tr>\n",
       "    <tr>\n",
       "      <th>8</th>\n",
       "      <td>Outlet_Identifier</td>\n",
       "      <td>object</td>\n",
       "      <td>0</td>\n",
       "      <td>0.000000</td>\n",
       "      <td>10</td>\n",
       "      <td>OUT010</td>\n",
       "      <td>OUT049</td>\n",
       "    </tr>\n",
       "    <tr>\n",
       "      <th>9</th>\n",
       "      <td>Outlet_Location_Type</td>\n",
       "      <td>object</td>\n",
       "      <td>0</td>\n",
       "      <td>0.000000</td>\n",
       "      <td>3</td>\n",
       "      <td>Tier 1</td>\n",
       "      <td>Tier 3</td>\n",
       "    </tr>\n",
       "    <tr>\n",
       "      <th>10</th>\n",
       "      <td>Outlet_Size</td>\n",
       "      <td>object</td>\n",
       "      <td>2410</td>\n",
       "      <td>28.276428</td>\n",
       "      <td>3</td>\n",
       "      <td>NaN</td>\n",
       "      <td>NaN</td>\n",
       "    </tr>\n",
       "    <tr>\n",
       "      <th>11</th>\n",
       "      <td>Outlet_Type</td>\n",
       "      <td>object</td>\n",
       "      <td>0</td>\n",
       "      <td>0.000000</td>\n",
       "      <td>4</td>\n",
       "      <td>Grocery Store</td>\n",
       "      <td>Supermarket Type3</td>\n",
       "    </tr>\n",
       "  </tbody>\n",
       "</table>\n",
       "</div>"
      ],
      "text/plain": [
       "                       Column    dtype  # null   null (%)  nunique  \\\n",
       "0            Item_Fat_Content   object       0   0.000000        5   \n",
       "1             Item_Identifier   object       0   0.000000     1559   \n",
       "2                    Item_MRP  float64       0   0.000000     5938   \n",
       "3           Item_Outlet_Sales  float64       0   0.000000     3493   \n",
       "4                   Item_Type   object       0   0.000000       16   \n",
       "5             Item_Visibility  float64       0   0.000000     7880   \n",
       "6                 Item_Weight  float64    1463  17.165317      415   \n",
       "7   Outlet_Establishment_Year    int64       0   0.000000        9   \n",
       "8           Outlet_Identifier   object       0   0.000000       10   \n",
       "9        Outlet_Location_Type   object       0   0.000000        3   \n",
       "10                Outlet_Size   object    2410  28.276428        3   \n",
       "11                Outlet_Type   object       0   0.000000        4   \n",
       "\n",
       "              min                max  \n",
       "0              LF                reg  \n",
       "1           DRA12              NCZ54  \n",
       "2           31.29           266.8884  \n",
       "3           33.29         13086.9648  \n",
       "4    Baking Goods      Starchy Foods  \n",
       "5             0.0           0.328391  \n",
       "6           4.555              21.35  \n",
       "7            1985               2009  \n",
       "8          OUT010             OUT049  \n",
       "9          Tier 1             Tier 3  \n",
       "10            NaN                NaN  \n",
       "11  Grocery Store  Supermarket Type3  "
      ]
     },
     "execution_count": 50,
     "metadata": {},
     "output_type": "execute_result"
    }
   ],
   "source": [
    "# custom function for df summary\n",
    "def summarize_df(df_):\n",
    "    df = df_.copy()\n",
    "    report = pd.DataFrame({\n",
    "                        'dtype':df.dtypes,\n",
    "                        '# null': df.isna().sum(),\n",
    "                        'null (%)': df.isna().sum()/len(df)*100,\n",
    "                        'nunique':df.nunique(),\n",
    "                        \"min\":df.min(),\n",
    "                        'max':df.max()\n",
    "             })\n",
    "    report.index.name='Column'\n",
    "    return report.reset_index()\n",
    "summarize_df(df)"
   ]
  },
  {
   "cell_type": "markdown",
   "metadata": {},
   "source": [
    "## Cleaning"
   ]
  },
  {
   "cell_type": "markdown",
   "metadata": {},
   "source": [
    "### Drop unnecessary columns"
   ]
  },
  {
   "cell_type": "code",
   "execution_count": 51,
   "metadata": {},
   "outputs": [],
   "source": [
    "df= df.drop(columns=['Item_Identifier','Outlet_Establishment_Year','Outlet_Type','Outlet_Location_Type','Outlet_Identifier'])"
   ]
  },
  {
   "cell_type": "markdown",
   "metadata": {},
   "source": [
    "### Fill missing/inconsistent values"
   ]
  },
  {
   "cell_type": "code",
   "execution_count": 52,
   "metadata": {},
   "outputs": [],
   "source": [
    "# placeholder to impute later 'missing'\n",
    "df['Outlet_Size']=df['Outlet_Size'].fillna('MISSING')"
   ]
  },
  {
   "cell_type": "code",
   "execution_count": 53,
   "metadata": {},
   "outputs": [],
   "source": [
    "# address inconsistent values in fat content.\n",
    "df['Item_Fat_Content']=df['Item_Fat_Content'].replace({'LF':\"Low Fat\",'low fat':\"Low Fat\", 'reg':\"Regular\"})"
   ]
  },
  {
   "cell_type": "code",
   "execution_count": 54,
   "metadata": {},
   "outputs": [
    {
     "data": {
      "text/html": [
       "<div>\n",
       "<style scoped>\n",
       "    .dataframe tbody tr th:only-of-type {\n",
       "        vertical-align: middle;\n",
       "    }\n",
       "\n",
       "    .dataframe tbody tr th {\n",
       "        vertical-align: top;\n",
       "    }\n",
       "\n",
       "    .dataframe thead th {\n",
       "        text-align: right;\n",
       "    }\n",
       "</style>\n",
       "<table border=\"1\" class=\"dataframe\">\n",
       "  <thead>\n",
       "    <tr style=\"text-align: right;\">\n",
       "      <th></th>\n",
       "      <th>Column</th>\n",
       "      <th>dtype</th>\n",
       "      <th># null</th>\n",
       "      <th>null (%)</th>\n",
       "      <th>nunique</th>\n",
       "      <th>min</th>\n",
       "      <th>max</th>\n",
       "    </tr>\n",
       "  </thead>\n",
       "  <tbody>\n",
       "    <tr>\n",
       "      <th>0</th>\n",
       "      <td>Item_Weight</td>\n",
       "      <td>float64</td>\n",
       "      <td>1463</td>\n",
       "      <td>17.165317</td>\n",
       "      <td>415</td>\n",
       "      <td>4.555</td>\n",
       "      <td>21.35</td>\n",
       "    </tr>\n",
       "    <tr>\n",
       "      <th>1</th>\n",
       "      <td>Item_Fat_Content</td>\n",
       "      <td>object</td>\n",
       "      <td>0</td>\n",
       "      <td>0.000000</td>\n",
       "      <td>2</td>\n",
       "      <td>Low Fat</td>\n",
       "      <td>Regular</td>\n",
       "    </tr>\n",
       "    <tr>\n",
       "      <th>2</th>\n",
       "      <td>Item_Visibility</td>\n",
       "      <td>float64</td>\n",
       "      <td>0</td>\n",
       "      <td>0.000000</td>\n",
       "      <td>7880</td>\n",
       "      <td>0.0</td>\n",
       "      <td>0.328391</td>\n",
       "    </tr>\n",
       "    <tr>\n",
       "      <th>3</th>\n",
       "      <td>Item_Type</td>\n",
       "      <td>object</td>\n",
       "      <td>0</td>\n",
       "      <td>0.000000</td>\n",
       "      <td>16</td>\n",
       "      <td>Baking Goods</td>\n",
       "      <td>Starchy Foods</td>\n",
       "    </tr>\n",
       "    <tr>\n",
       "      <th>4</th>\n",
       "      <td>Item_MRP</td>\n",
       "      <td>float64</td>\n",
       "      <td>0</td>\n",
       "      <td>0.000000</td>\n",
       "      <td>5938</td>\n",
       "      <td>31.29</td>\n",
       "      <td>266.8884</td>\n",
       "    </tr>\n",
       "    <tr>\n",
       "      <th>5</th>\n",
       "      <td>Outlet_Size</td>\n",
       "      <td>object</td>\n",
       "      <td>0</td>\n",
       "      <td>0.000000</td>\n",
       "      <td>4</td>\n",
       "      <td>High</td>\n",
       "      <td>Small</td>\n",
       "    </tr>\n",
       "    <tr>\n",
       "      <th>6</th>\n",
       "      <td>Item_Outlet_Sales</td>\n",
       "      <td>float64</td>\n",
       "      <td>0</td>\n",
       "      <td>0.000000</td>\n",
       "      <td>3493</td>\n",
       "      <td>33.29</td>\n",
       "      <td>13086.9648</td>\n",
       "    </tr>\n",
       "  </tbody>\n",
       "</table>\n",
       "</div>"
      ],
      "text/plain": [
       "              Column    dtype  # null   null (%)  nunique           min  \\\n",
       "0        Item_Weight  float64    1463  17.165317      415         4.555   \n",
       "1   Item_Fat_Content   object       0   0.000000        2       Low Fat   \n",
       "2    Item_Visibility  float64       0   0.000000     7880           0.0   \n",
       "3          Item_Type   object       0   0.000000       16  Baking Goods   \n",
       "4           Item_MRP  float64       0   0.000000     5938         31.29   \n",
       "5        Outlet_Size   object       0   0.000000        4          High   \n",
       "6  Item_Outlet_Sales  float64       0   0.000000     3493         33.29   \n",
       "\n",
       "             max  \n",
       "0          21.35  \n",
       "1        Regular  \n",
       "2       0.328391  \n",
       "3  Starchy Foods  \n",
       "4       266.8884  \n",
       "5          Small  \n",
       "6     13086.9648  "
      ]
     },
     "execution_count": 54,
     "metadata": {},
     "output_type": "execute_result"
    }
   ],
   "source": [
    "# confirm changes\n",
    "\n",
    "summarize_df(df)"
   ]
  },
  {
   "cell_type": "markdown",
   "metadata": {},
   "source": [
    "## Train/Test Split"
   ]
  },
  {
   "cell_type": "code",
   "execution_count": 55,
   "metadata": {},
   "outputs": [
    {
     "data": {
      "text/html": [
       "<div>\n",
       "<style scoped>\n",
       "    .dataframe tbody tr th:only-of-type {\n",
       "        vertical-align: middle;\n",
       "    }\n",
       "\n",
       "    .dataframe tbody tr th {\n",
       "        vertical-align: top;\n",
       "    }\n",
       "\n",
       "    .dataframe thead th {\n",
       "        text-align: right;\n",
       "    }\n",
       "</style>\n",
       "<table border=\"1\" class=\"dataframe\">\n",
       "  <thead>\n",
       "    <tr style=\"text-align: right;\">\n",
       "      <th></th>\n",
       "      <th>Item_Weight</th>\n",
       "      <th>Item_Fat_Content</th>\n",
       "      <th>Item_Visibility</th>\n",
       "      <th>Item_Type</th>\n",
       "      <th>Item_MRP</th>\n",
       "      <th>Outlet_Size</th>\n",
       "    </tr>\n",
       "  </thead>\n",
       "  <tbody>\n",
       "    <tr>\n",
       "      <th>4776</th>\n",
       "      <td>16.350</td>\n",
       "      <td>Low Fat</td>\n",
       "      <td>0.029565</td>\n",
       "      <td>Household</td>\n",
       "      <td>256.4646</td>\n",
       "      <td>Medium</td>\n",
       "    </tr>\n",
       "    <tr>\n",
       "      <th>7510</th>\n",
       "      <td>15.250</td>\n",
       "      <td>Regular</td>\n",
       "      <td>0.000000</td>\n",
       "      <td>Snack Foods</td>\n",
       "      <td>179.7660</td>\n",
       "      <td>Medium</td>\n",
       "    </tr>\n",
       "    <tr>\n",
       "      <th>5828</th>\n",
       "      <td>12.350</td>\n",
       "      <td>Regular</td>\n",
       "      <td>0.158716</td>\n",
       "      <td>Meat</td>\n",
       "      <td>157.2946</td>\n",
       "      <td>Medium</td>\n",
       "    </tr>\n",
       "    <tr>\n",
       "      <th>5327</th>\n",
       "      <td>7.975</td>\n",
       "      <td>Low Fat</td>\n",
       "      <td>0.014628</td>\n",
       "      <td>Baking Goods</td>\n",
       "      <td>82.3250</td>\n",
       "      <td>Small</td>\n",
       "    </tr>\n",
       "    <tr>\n",
       "      <th>4810</th>\n",
       "      <td>19.350</td>\n",
       "      <td>Low Fat</td>\n",
       "      <td>0.016645</td>\n",
       "      <td>Frozen Foods</td>\n",
       "      <td>120.9098</td>\n",
       "      <td>MISSING</td>\n",
       "    </tr>\n",
       "  </tbody>\n",
       "</table>\n",
       "</div>"
      ],
      "text/plain": [
       "      Item_Weight Item_Fat_Content  Item_Visibility     Item_Type  Item_MRP  \\\n",
       "4776       16.350          Low Fat         0.029565     Household  256.4646   \n",
       "7510       15.250          Regular         0.000000   Snack Foods  179.7660   \n",
       "5828       12.350          Regular         0.158716          Meat  157.2946   \n",
       "5327        7.975          Low Fat         0.014628  Baking Goods   82.3250   \n",
       "4810       19.350          Low Fat         0.016645  Frozen Foods  120.9098   \n",
       "\n",
       "     Outlet_Size  \n",
       "4776      Medium  \n",
       "7510      Medium  \n",
       "5828      Medium  \n",
       "5327       Small  \n",
       "4810     MISSING  "
      ]
     },
     "execution_count": 55,
     "metadata": {},
     "output_type": "execute_result"
    }
   ],
   "source": [
    "# Make x and y variables\n",
    "y = df['Item_Outlet_Sales'].copy()\n",
    "X = df.drop(columns=['Item_Outlet_Sales']).copy()\n",
    "# train-test-split with random state for reproducibility\n",
    "X_train, X_test, y_train, y_test = train_test_split(X,y, random_state=SEED)\n",
    "X_train.head()"
   ]
  },
  {
   "cell_type": "code",
   "execution_count": 56,
   "metadata": {},
   "outputs": [],
   "source": [
    "# make categorical selector and verify it works \n",
    "cat_sel = make_column_selector(dtype_include='object')\n",
    "\n",
    "# make numeric selector and verify it works \n",
    "num_sel = make_column_selector(dtype_include='number')"
   ]
  },
  {
   "cell_type": "code",
   "execution_count": 57,
   "metadata": {},
   "outputs": [
    {
     "name": "stdout",
     "output_type": "stream",
     "text": [
      "For Item_Fat_Content:\n",
      "['Low Fat' 'Regular']\n",
      "\n",
      "For Item_Type:\n",
      "['Dairy' 'Soft Drinks' 'Meat' 'Fruits and Vegetables' 'Household'\n",
      " 'Baking Goods' 'Snack Foods' 'Frozen Foods' 'Breakfast'\n",
      " 'Health and Hygiene' 'Hard Drinks' 'Canned' 'Breads' 'Starchy Foods'\n",
      " 'Others' 'Seafood']\n",
      "\n",
      "For Outlet_Size:\n",
      "['Medium' 'MISSING' 'High' 'Small']\n",
      "\n"
     ]
    }
   ],
   "source": [
    "for col in cat_sel(X):\n",
    "    print(f\"For {col}:\\n{X[col].unique()}\\n\")"
   ]
  },
  {
   "cell_type": "code",
   "execution_count": 58,
   "metadata": {},
   "outputs": [
    {
     "data": {
      "text/html": [
       "<div>\n",
       "<style scoped>\n",
       "    .dataframe tbody tr th:only-of-type {\n",
       "        vertical-align: middle;\n",
       "    }\n",
       "\n",
       "    .dataframe tbody tr th {\n",
       "        vertical-align: top;\n",
       "    }\n",
       "\n",
       "    .dataframe thead th {\n",
       "        text-align: right;\n",
       "    }\n",
       "</style>\n",
       "<table border=\"1\" class=\"dataframe\">\n",
       "  <thead>\n",
       "    <tr style=\"text-align: right;\">\n",
       "      <th></th>\n",
       "      <th>Item_Weight</th>\n",
       "      <th>Item_Visibility</th>\n",
       "      <th>Item_MRP</th>\n",
       "      <th>Item_Fat_Content_Low Fat</th>\n",
       "      <th>Item_Type_Baking Goods</th>\n",
       "      <th>Item_Type_Breads</th>\n",
       "      <th>Item_Type_Breakfast</th>\n",
       "      <th>Item_Type_Canned</th>\n",
       "      <th>Item_Type_Dairy</th>\n",
       "      <th>Item_Type_Frozen Foods</th>\n",
       "      <th>Item_Type_Fruits and Vegetables</th>\n",
       "      <th>Item_Type_Hard Drinks</th>\n",
       "      <th>Item_Type_Health and Hygiene</th>\n",
       "      <th>Item_Type_Household</th>\n",
       "      <th>Item_Type_Meat</th>\n",
       "      <th>Item_Type_Seafood</th>\n",
       "      <th>Item_Type_Snack Foods</th>\n",
       "      <th>Item_Type_Soft Drinks</th>\n",
       "      <th>Item_Type_Starchy Foods</th>\n",
       "      <th>Outlet_Size_High</th>\n",
       "      <th>Outlet_Size_Medium</th>\n",
       "      <th>Outlet_Size_Small</th>\n",
       "    </tr>\n",
       "  </thead>\n",
       "  <tbody>\n",
       "    <tr>\n",
       "      <th>7503</th>\n",
       "      <td>14.30</td>\n",
       "      <td>0.026300</td>\n",
       "      <td>79.4302</td>\n",
       "      <td>1.0</td>\n",
       "      <td>0.0</td>\n",
       "      <td>0.0</td>\n",
       "      <td>0.0</td>\n",
       "      <td>0.0</td>\n",
       "      <td>0.0</td>\n",
       "      <td>1.0</td>\n",
       "      <td>0.0</td>\n",
       "      <td>0.0</td>\n",
       "      <td>0.0</td>\n",
       "      <td>0.0</td>\n",
       "      <td>0.0</td>\n",
       "      <td>0.0</td>\n",
       "      <td>0.0</td>\n",
       "      <td>0.0</td>\n",
       "      <td>0.0</td>\n",
       "      <td>1.0</td>\n",
       "      <td>0.0</td>\n",
       "      <td>0.0</td>\n",
       "    </tr>\n",
       "    <tr>\n",
       "      <th>2957</th>\n",
       "      <td>7.93</td>\n",
       "      <td>0.071136</td>\n",
       "      <td>42.7086</td>\n",
       "      <td>1.0</td>\n",
       "      <td>0.0</td>\n",
       "      <td>0.0</td>\n",
       "      <td>0.0</td>\n",
       "      <td>0.0</td>\n",
       "      <td>0.0</td>\n",
       "      <td>0.0</td>\n",
       "      <td>0.0</td>\n",
       "      <td>0.0</td>\n",
       "      <td>1.0</td>\n",
       "      <td>0.0</td>\n",
       "      <td>0.0</td>\n",
       "      <td>0.0</td>\n",
       "      <td>0.0</td>\n",
       "      <td>0.0</td>\n",
       "      <td>0.0</td>\n",
       "      <td>0.0</td>\n",
       "      <td>0.0</td>\n",
       "      <td>1.0</td>\n",
       "    </tr>\n",
       "    <tr>\n",
       "      <th>7031</th>\n",
       "      <td>14.50</td>\n",
       "      <td>0.041313</td>\n",
       "      <td>42.0454</td>\n",
       "      <td>0.0</td>\n",
       "      <td>0.0</td>\n",
       "      <td>0.0</td>\n",
       "      <td>0.0</td>\n",
       "      <td>1.0</td>\n",
       "      <td>0.0</td>\n",
       "      <td>0.0</td>\n",
       "      <td>0.0</td>\n",
       "      <td>0.0</td>\n",
       "      <td>0.0</td>\n",
       "      <td>0.0</td>\n",
       "      <td>0.0</td>\n",
       "      <td>0.0</td>\n",
       "      <td>0.0</td>\n",
       "      <td>0.0</td>\n",
       "      <td>0.0</td>\n",
       "      <td>0.0</td>\n",
       "      <td>1.0</td>\n",
       "      <td>0.0</td>\n",
       "    </tr>\n",
       "  </tbody>\n",
       "</table>\n",
       "</div>"
      ],
      "text/plain": [
       "      Item_Weight  Item_Visibility  Item_MRP  Item_Fat_Content_Low Fat  \\\n",
       "7503        14.30         0.026300   79.4302                       1.0   \n",
       "2957         7.93         0.071136   42.7086                       1.0   \n",
       "7031        14.50         0.041313   42.0454                       0.0   \n",
       "\n",
       "      Item_Type_Baking Goods  Item_Type_Breads  Item_Type_Breakfast  \\\n",
       "7503                     0.0               0.0                  0.0   \n",
       "2957                     0.0               0.0                  0.0   \n",
       "7031                     0.0               0.0                  0.0   \n",
       "\n",
       "      Item_Type_Canned  Item_Type_Dairy  Item_Type_Frozen Foods  \\\n",
       "7503               0.0              0.0                     1.0   \n",
       "2957               0.0              0.0                     0.0   \n",
       "7031               1.0              0.0                     0.0   \n",
       "\n",
       "      Item_Type_Fruits and Vegetables  Item_Type_Hard Drinks  \\\n",
       "7503                              0.0                    0.0   \n",
       "2957                              0.0                    0.0   \n",
       "7031                              0.0                    0.0   \n",
       "\n",
       "      Item_Type_Health and Hygiene  Item_Type_Household  Item_Type_Meat  \\\n",
       "7503                           0.0                  0.0             0.0   \n",
       "2957                           1.0                  0.0             0.0   \n",
       "7031                           0.0                  0.0             0.0   \n",
       "\n",
       "      Item_Type_Seafood  Item_Type_Snack Foods  Item_Type_Soft Drinks  \\\n",
       "7503                0.0                    0.0                    0.0   \n",
       "2957                0.0                    0.0                    0.0   \n",
       "7031                0.0                    0.0                    0.0   \n",
       "\n",
       "      Item_Type_Starchy Foods  Outlet_Size_High  Outlet_Size_Medium  \\\n",
       "7503                      0.0               1.0                 0.0   \n",
       "2957                      0.0               0.0                 0.0   \n",
       "7031                      0.0               0.0                 1.0   \n",
       "\n",
       "      Outlet_Size_Small  \n",
       "7503                0.0  \n",
       "2957                1.0  \n",
       "7031                0.0  "
      ]
     },
     "execution_count": 58,
     "metadata": {},
     "output_type": "execute_result"
    }
   ],
   "source": [
    "drop_cats=['Regular','Others','MISSING']\n",
    "\n",
    "\n",
    "# make pipelines for categorical vs numeric data\n",
    "cat_pipe = make_pipeline(SimpleImputer(strategy='constant',\n",
    "                                       fill_value='MISSING'),\n",
    "                         OneHotEncoder(drop=drop_cats, sparse_output=False))\n",
    "num_pipe = make_pipeline(SimpleImputer(strategy='mean'))\n",
    "# make the preprocessing column transformer\n",
    "preprocessor = make_column_transformer((num_pipe, num_sel),\n",
    "                                       (cat_pipe,cat_sel),\n",
    "                                      verbose_feature_names_out=False)\n",
    "# fit column transformer and run get_feature_names_out\n",
    "preprocessor.fit(X_train)\n",
    "feature_names = preprocessor.get_feature_names_out()\n",
    "\n",
    "\n",
    "X_train_df = pd.DataFrame(preprocessor.transform(X_train),\n",
    "                           columns = feature_names, index = X_train.index)\n",
    "X_test_df = pd.DataFrame(preprocessor.transform(X_test),\n",
    "                           columns = feature_names, index = X_test.index)\n",
    "X_test_df.head(3)"
   ]
  },
  {
   "cell_type": "markdown",
   "metadata": {},
   "source": [
    "## LineReg model"
   ]
  },
  {
   "cell_type": "code",
   "execution_count": 59,
   "metadata": {},
   "outputs": [],
   "source": [
    "# define linreg function \n",
    "def evaluate_regression(model, X_train,y_train, X_test, y_test):    \n",
    "    # Training Data\n",
    "    y_pred_train = model.predict(X_train)\n",
    "    r2_train = metrics.r2_score(y_train, y_pred_train)\n",
    "    rmse_train = metrics.mean_squared_error(y_train, y_pred_train, \n",
    "                                            squared=False)\n",
    "    print(f\"Training Data:\\tR^2= {r2_train:.2f}\\tRMSE= {rmse_train:.2f}\")\n",
    "    # Test Data\n",
    "    y_pred_test = model.predict(X_test)\n",
    "    r2_test = metrics.r2_score(y_test, y_pred_test)\n",
    "    rmse_test = metrics.mean_squared_error(y_test, y_pred_test, \n",
    "                                            squared=False)\n",
    "    print(f\"Test Data:\\tR^2= {r2_test:.2f}\\tRMSE= {rmse_test:.2f}\")\n",
    "    \n",
    "    \n",
    "# define  coef grabber function\n",
    "def get_coeffs_linreg(lin_reg, feature_names = None, sort=True,ascending=True,\n",
    "                     name='LinearRegression Coefficients'):\n",
    "    if feature_names is None:\n",
    "        feature_names = lin_reg.feature_names_in_\n",
    "    # Saving the coefficients\n",
    "    coeffs = pd.Series(lin_reg.coef_, index= feature_names)\n",
    "    if sort==True:\n",
    "        coeffs = coeffs.sort_values(ascending=ascending)\n",
    "    return coeffs"
   ]
  },
  {
   "cell_type": "code",
   "execution_count": 60,
   "metadata": {},
   "outputs": [
    {
     "name": "stdout",
     "output_type": "stream",
     "text": [
      "Training Data:\tR^2= 0.39\tRMSE= 1348.31\n",
      "Test Data:\tR^2= 0.37\tRMSE= 1316.74\n"
     ]
    }
   ],
   "source": [
    "# fit a linear regression model\n",
    "lin_reg = LinearRegression()\n",
    "lin_reg.fit(X_train_df, y_train)\n",
    "evaluate_regression(lin_reg, X_train_df, y_train, X_test_df,y_test)"
   ]
  },
  {
   "cell_type": "code",
   "execution_count": 61,
   "metadata": {},
   "outputs": [
    {
     "data": {
      "text/plain": [
       "Item_Visibility                   -3714.595966\n",
       "Item_Fat_Content_Low Fat            -62.610928\n",
       "Item_Weight                          -3.217038\n",
       "Item_MRP                             15.602479\n",
       "Item_Type_Dairy                      30.261499\n",
       "Outlet_Size_Small                    72.317722\n",
       "Item_Type_Meat                      110.044042\n",
       "Item_Type_Breads                    111.422521\n",
       "Item_Type_Soft Drinks               125.838252\n",
       "Item_Type_Health and Hygiene        128.595749\n",
       "Item_Type_Household                 132.561821\n",
       "Item_Type_Snack Foods               135.370827\n",
       "Item_Type_Baking Goods              149.965686\n",
       "Item_Type_Frozen Foods              152.298413\n",
       "Item_Type_Hard Drinks               177.894021\n",
       "Item_Type_Breakfast                 193.486579\n",
       "Item_Type_Fruits and Vegetables     210.387053\n",
       "Item_Type_Canned                    221.801284\n",
       "Item_Type_Starchy Foods             289.163066\n",
       "Outlet_Size_High                    471.048212\n",
       "Item_Type_Seafood                   502.905980\n",
       "Outlet_Size_Medium                  835.312444\n",
       "dtype: float64"
      ]
     },
     "execution_count": 61,
     "metadata": {},
     "output_type": "execute_result"
    }
   ],
   "source": [
    "coeffs = get_coeffs_linreg(lin_reg)\n",
    "coeffs"
   ]
  },
  {
   "cell_type": "markdown",
   "metadata": {},
   "source": [
    "## plot and rank the 3 largest coefficients"
   ]
  },
  {
   "cell_type": "code",
   "execution_count": 62,
   "metadata": {},
   "outputs": [
    {
     "data": {
      "text/plain": [
       "<Axes: title={'center': 'Top 3 Largest Coefficients'}, xlabel='Coefficient', ylabel='Feature Names'>"
      ]
     },
     "execution_count": 62,
     "metadata": {},
     "output_type": "execute_result"
    },
    {
     "data": {
      "image/png": "[encoded data removed]",
      "text/plain": [
       "<Figure size 400x500 with 1 Axes>"
      ]
     },
     "metadata": {},
     "output_type": "display_data"
    }
   ],
   "source": [
    "plot_coeffs(coeffs,top_n=3,annotate=True)"
   ]
  },
  {
   "cell_type": "markdown",
   "metadata": {},
   "source": [
    "#### Top 3 \n",
    "\n",
    "outlet_size_medium, outlet_size_high, and Item, Visibility\n",
    "\n",
    "#### positive effect:\n",
    "\n",
    "    outlet_size_medium: if the store falls into [outlet_size_medium] (based on overall size of ground area covered of the location), an additional 805.36 predicted sales can be assumed.\n",
    "-------------------------------------------------------------------------------\n",
    "    outlet_size_high: if the store falls into [outlet_size_high] (based on overall size of ground area covered of the location) an additional 441.82 predicted sales can be assumed.\n",
    "\n",
    "#### negative effect:\n",
    "\n",
    "    item_visibility: for every point increase in the total overall percentage of total product display space(for that specific product) an expected loss of 3,589.50 in outlet sales can be assumed."
   ]
  },
  {
   "cell_type": "markdown",
   "metadata": {},
   "source": [
    "## Regression Tree-Based model"
   ]
  },
  {
   "cell_type": "code",
   "execution_count": 63,
   "metadata": {},
   "outputs": [
    {
     "name": "stdout",
     "output_type": "stream",
     "text": [
      "Training Data:\tR^2= 0.92\tRMSE= 476.95\n",
      "Test Data:\tR^2= 0.45\tRMSE= 1231.27\n"
     ]
    }
   ],
   "source": [
    "reg = RandomForestRegressor(random_state=SEED)\n",
    "reg.fit(X_train_df,y_train)\n",
    "evaluate_regression(reg, X_train_df, y_train, X_test_df, y_test)"
   ]
  },
  {
   "cell_type": "code",
   "execution_count": 64,
   "metadata": {},
   "outputs": [
    {
     "data": {
      "text/plain": [
       "array([0.18283003, 0.16377025, 0.47135897, 0.01239765, 0.00542751,\n",
       "       0.00318207, 0.00317628, 0.00650644, 0.00779474, 0.00707839,\n",
       "       0.01076222, 0.00381234, 0.00561924, 0.0091234 , 0.00497882,\n",
       "       0.0023539 , 0.01083953, 0.00632176, 0.00402735, 0.0120043 ,\n",
       "       0.05237553, 0.0142593 ])"
      ]
     },
     "execution_count": 64,
     "metadata": {},
     "output_type": "execute_result"
    }
   ],
   "source": [
    "reg.feature_importances_"
   ]
  },
  {
   "cell_type": "code",
   "execution_count": 65,
   "metadata": {},
   "outputs": [
    {
     "name": "stdout",
     "output_type": "stream",
     "text": [
      "22\n",
      "22\n"
     ]
    },
    {
     "data": {
      "text/plain": [
       "True"
      ]
     },
     "execution_count": 65,
     "metadata": {},
     "output_type": "execute_result"
    }
   ],
   "source": [
    "## Check the number of feature importances matches the # of columns\n",
    "print(len(reg.feature_importances_))\n",
    "print(len(X_train_df.columns))\n",
    "len(reg.feature_importances_) == len(X_train_df.columns)"
   ]
  },
  {
   "cell_type": "code",
   "execution_count": 66,
   "metadata": {},
   "outputs": [
    {
     "data": {
      "text/plain": [
       "Item_Weight                        0.182830\n",
       "Item_Visibility                    0.163770\n",
       "Item_MRP                           0.471359\n",
       "Item_Fat_Content_Low Fat           0.012398\n",
       "Item_Type_Baking Goods             0.005428\n",
       "Item_Type_Breads                   0.003182\n",
       "Item_Type_Breakfast                0.003176\n",
       "Item_Type_Canned                   0.006506\n",
       "Item_Type_Dairy                    0.007795\n",
       "Item_Type_Frozen Foods             0.007078\n",
       "Item_Type_Fruits and Vegetables    0.010762\n",
       "Item_Type_Hard Drinks              0.003812\n",
       "Item_Type_Health and Hygiene       0.005619\n",
       "Item_Type_Household                0.009123\n",
       "Item_Type_Meat                     0.004979\n",
       "Item_Type_Seafood                  0.002354\n",
       "Item_Type_Snack Foods              0.010840\n",
       "Item_Type_Soft Drinks              0.006322\n",
       "Item_Type_Starchy Foods            0.004027\n",
       "Outlet_Size_High                   0.012004\n",
       "Outlet_Size_Medium                 0.052376\n",
       "Outlet_Size_Small                  0.014259\n",
       "Name: Feature Importance, dtype: float64"
      ]
     },
     "execution_count": 66,
     "metadata": {},
     "output_type": "execute_result"
    }
   ],
   "source": [
    "importances = pd.Series(reg.feature_importances_, index= feature_names,\n",
    "                       name='Feature Importance')\n",
    "importances"
   ]
  },
  {
   "cell_type": "code",
   "execution_count": 67,
   "metadata": {},
   "outputs": [
    {
     "data": {
      "text/plain": [
       "Item_MRP                           0.471359\n",
       "Item_Weight                        0.182830\n",
       "Item_Visibility                    0.163770\n",
       "Outlet_Size_Medium                 0.052376\n",
       "Outlet_Size_Small                  0.014259\n",
       "Item_Fat_Content_Low Fat           0.012398\n",
       "Outlet_Size_High                   0.012004\n",
       "Item_Type_Snack Foods              0.010840\n",
       "Item_Type_Fruits and Vegetables    0.010762\n",
       "Item_Type_Household                0.009123\n",
       "Item_Type_Dairy                    0.007795\n",
       "Item_Type_Frozen Foods             0.007078\n",
       "Item_Type_Canned                   0.006506\n",
       "Item_Type_Soft Drinks              0.006322\n",
       "Item_Type_Health and Hygiene       0.005619\n",
       "Item_Type_Baking Goods             0.005428\n",
       "Item_Type_Meat                     0.004979\n",
       "Item_Type_Starchy Foods            0.004027\n",
       "Item_Type_Hard Drinks              0.003812\n",
       "Item_Type_Breads                   0.003182\n",
       "Item_Type_Breakfast                0.003176\n",
       "Item_Type_Seafood                  0.002354\n",
       "Name: Feature Importance, dtype: float64"
      ]
     },
     "execution_count": 67,
     "metadata": {},
     "output_type": "execute_result"
    }
   ],
   "source": [
    "## Save the feature importances sorted from largest to smallest (ascending=False)\n",
    "sorted_importance = importances.sort_values(ascending=False)\n",
    "sorted_importance"
   ]
  },
  {
   "cell_type": "code",
   "execution_count": 68,
   "metadata": {},
   "outputs": [
    {
     "data": {
      "text/plain": [
       "<Axes: >"
      ]
     },
     "execution_count": 68,
     "metadata": {},
     "output_type": "execute_result"
    },
    {
     "data": {
      "image/png": "[encoded data removed]",
      "text/plain": [
       "<Figure size 800x600 with 1 Axes>"
      ]
     },
     "metadata": {},
     "output_type": "display_data"
    }
   ],
   "source": [
    "## find the top 5 importances and plot them\n",
    "sorted_importance.head(5).plot(kind='barh',\n",
    "                                   figsize=(8,6))"
   ]
  },
  {
   "cell_type": "markdown",
   "metadata": {},
   "source": [
    "#### Our 5 most important features\n",
    "\n",
    "1. item_mrp\n",
    "2. item_weight\n",
    "3. item_visibility\n",
    "4. outlet_size_medium\n",
    "5. outlet_size_small"
   ]
  },
  {
   "cell_type": "markdown",
   "metadata": {},
   "source": [
    "#### Save our best models with joblib\n",
    "\n",
    "    save our preprocessor, x_train, x_text, y_train, y_test, LineReg, and Tree-Based Regression model and then save the joblib file to the repository"
   ]
  },
  {
   "cell_type": "code",
   "execution_count": 69,
   "metadata": {},
   "outputs": [
    {
     "name": "stdout",
     "output_type": "stream",
     "text": [
      "Training Data:\tR^2= 0.92\tRMSE= 476.95\n",
      "Test Data:\tR^2= 0.45\tRMSE= 1231.27\n"
     ]
    }
   ],
   "source": [
    "## Fitting and evaluating the model for export.\n",
    "reg = RandomForestRegressor()\n",
    "reg.fit(X_train_df, y_train)\n",
    "evaluate_regression(reg, X_train_df, y_train, X_test_df, y_test)"
   ]
  },
  {
   "cell_type": "code",
   "execution_count": 70,
   "metadata": {},
   "outputs": [
    {
     "name": "stdout",
     "output_type": "stream",
     "text": [
      "Training Data:\tR^2= 0.39\tRMSE= 1348.31\n",
      "Test Data:\tR^2= 0.37\tRMSE= 1316.74\n"
     ]
    }
   ],
   "source": [
    "## fitting a linear regression model for export\n",
    "lin_reg = LinearRegression()\n",
    "lin_reg.fit(X_train_df, y_train)\n",
    "evaluate_regression(lin_reg, X_train_df, y_train, X_test_df,y_test)"
   ]
  },
  {
   "cell_type": "code",
   "execution_count": 71,
   "metadata": {},
   "outputs": [
    {
     "data": {
      "text/plain": [
       "['best_models.joblib']"
      ]
     },
     "execution_count": 71,
     "metadata": {},
     "output_type": "execute_result"
    }
   ],
   "source": [
    "## saving variables for next lesson/notebook\n",
    "import joblib\n",
    "## creating a dictionary of all of the variables to save for later\n",
    "export = {'X_train':X_train_df,\n",
    "         'y_train': y_train,\n",
    "         'X_test':X_test_df,\n",
    "          \"y_test\": y_test,\n",
    "         'preprocessor':preprocessor,\n",
    "         'RandomForestRegressor':reg,\n",
    "         'LinearRegression':lin_reg}\n",
    "joblib.dump(export, 'best_models.joblib')"
   ]
  }
 ],
 "metadata": {
  "kernelspec": {
   "display_name": "dojo-env",
   "language": "python",
   "name": "python3"
  },
  "language_info": {
   "codemirror_mode": {
    "name": "ipython",
    "version": 3
   },
   "file_extension": ".py",
   "mimetype": "text/x-python",
   "name": "python",
   "nbconvert_exporter": "python",
   "pygments_lexer": "ipython3",
   "version": "3.9.15"
  },
  "orig_nbformat": 4
 },
 "nbformat": 4,
 "nbformat_minor": 2
}
