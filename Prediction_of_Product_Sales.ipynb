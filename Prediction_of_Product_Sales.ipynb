{
  "nbformat": 4,
  "nbformat_minor": 0,
  "metadata": {
    "colab": {
      "provenance": [],
      "authorship_tag": "ABX9TyNy/UTPQuL3GsdqD4UBPqvX",
      "include_colab_link": true
    },
    "kernelspec": {
      "name": "python3",
      "display_name": "Python 3"
    },
    "language_info": {
      "name": "python"
    }
  },
  "cells": [
    {
      "cell_type": "markdown",
      "metadata": {
        "id": "view-in-github",
        "colab_type": "text"
      },
      "source": [
        "<a href=\"https://colab.research.google.com/github/Sly-hexr/Prediction-of-Product-Sales/blob/main/Prediction_of_Product_Sales.ipynb\" target=\"_parent\"><img src=\"https://colab.research.google.com/assets/colab-badge.svg\" alt=\"Open In Colab\"/></a>"
      ]
    },
    {
      "cell_type": "code",
      "execution_count": 4,
      "metadata": {
        "colab": {
          "base_uri": "https://localhost:8080/"
        },
        "id": "ypWaVubeX3np",
        "outputId": "63f2668d-7e60-416a-8686-bfb968a9423f"
      },
      "outputs": [
        {
          "output_type": "stream",
          "name": "stdout",
          "text": [
            "Nicholas Rowland\n"
          ]
        }
      ],
      "source": [
        "# Prediction of Product Sales\n",
        "  Nicholas Rowland\n",
        "## Load and Inspect Data\n",
        "\n",
        "## Clean Data\n",
        "\n",
        "## Exploratory Data Analysis\n",
        "\n",
        "## Explanatory Data Analysis"
      ]
    }
  ]
}